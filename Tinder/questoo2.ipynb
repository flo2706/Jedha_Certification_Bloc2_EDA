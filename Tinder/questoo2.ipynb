{
 "cells": [
  {
   "cell_type": "code",
   "execution_count": 5,
   "id": "5e06a2d4",
   "metadata": {},
   "outputs": [],
   "source": [
    "import pandas as pd\n",
    "import matplotlib.pyplot as plt\n",
    "import numpy as np\n",
    "import plotly.express as px\n",
    "import seaborn as sns\n",
    "from scipy.stats import ttest_ind\n",
    "\n",
    "df = pd.read_csv(\"../Speed_dating.csv\", encoding='ISO-8859-1')"
   ]
  },
  {
   "cell_type": "markdown",
   "id": "8836c9ba",
   "metadata": {},
   "source": [
    "Préférences déclarées - inscription Time 1"
   ]
  },
  {
   "cell_type": "code",
   "execution_count": 6,
   "id": "1c090633",
   "metadata": {},
   "outputs": [],
   "source": [
    "# Pour les vagues 1–5 et 10–21 (format 100 pts)\n",
    "cols_time1 = ['attr1_1', 'sinc1_1', 'intel1_1', 'fun1_1', 'amb1_1', 'shar1_1']\n",
    "df_time1_clean = df[(df['wave'] < 6) | (df['wave'] > 9)].dropna(subset=cols_time1)\n",
    "\n",
    "# Moyennes par genre\n",
    "result_time1 = {}\n",
    "for gender, label in zip([0, 1], ['Femmes évaluant les hommes', 'Hommes évaluant les femmes']):\n",
    "    subset = df_time1_clean[df_time1_clean['gender'] == gender]\n",
    "    result_time1[label] = subset[cols_time1].mean().sort_values()\n"
   ]
  },
  {
   "cell_type": "markdown",
   "id": "3e6aaf21",
   "metadata": {},
   "source": [
    "préférences post-event - Time 2 - attr1_2"
   ]
  },
  {
   "cell_type": "code",
   "execution_count": 7,
   "id": "2cd556bc",
   "metadata": {},
   "outputs": [],
   "source": [
    "cols_time2 = ['attr1_2', 'sinc1_2', 'intel1_2', 'fun1_2', 'amb1_2', 'shar1_2']\n",
    "df_time2_clean = df[(df['wave'] < 6) | (df['wave'] > 9)].dropna(subset=cols_time2)\n",
    "\n",
    "result_time2 = {}\n",
    "for gender, label in zip([0, 1], ['Femmes évaluant les hommes', 'Hommes évaluant les femmes']):\n",
    "    subset = df_time2_clean[df_time2_clean['gender'] == gender]\n",
    "    result_time2[label] = subset[cols_time2].mean().sort_values()\n"
   ]
  },
  {
   "cell_type": "markdown",
   "id": "949eca69",
   "metadata": {},
   "source": [
    "préférences à distances - Time 3 - attr1_3"
   ]
  },
  {
   "cell_type": "code",
   "execution_count": 8,
   "id": "e00ecad6",
   "metadata": {},
   "outputs": [],
   "source": [
    "cols_time3 = ['attr1_3', 'sinc1_3', 'intel1_3', 'fun1_3', 'amb1_3', 'shar1_3']\n",
    "df_time3_clean = df.dropna(subset=cols_time3)\n",
    "\n",
    "result_time3 = {}\n",
    "for gender, label in zip([0, 1], ['Femmes évaluant les hommes', 'Hommes évaluant les femmes']):\n",
    "    subset = df_time3_clean[df_time3_clean['gender'] == gender]\n",
    "    result_time3[label] = subset[cols_time3].mean().sort_values()\n"
   ]
  },
  {
   "cell_type": "markdown",
   "id": "b7828539",
   "metadata": {},
   "source": [
    "Impact réel "
   ]
  },
  {
   "cell_type": "markdown",
   "id": "d307ed75",
   "metadata": {},
   "source": [
    "à temps 2"
   ]
  },
  {
   "cell_type": "code",
   "execution_count": 9,
   "id": "e7ce609d",
   "metadata": {},
   "outputs": [],
   "source": [
    "cols_impact2 = ['attr7_2', 'sinc7_2', 'intel7_2', 'fun7_2', 'amb7_2', 'shar7_2']\n",
    "df_impact2 = df.dropna(subset=cols_impact2)\n",
    "\n",
    "result_impact2 = {}\n",
    "for gender, label in zip([0, 1], ['Femmes évaluant les hommes', 'Hommes évaluant les femmes']):\n",
    "    subset = df_impact2[df_impact2['gender'] == gender]\n",
    "    result_impact2[label] = subset[cols_impact2].mean().sort_values()\n"
   ]
  },
  {
   "cell_type": "markdown",
   "id": "25b418ce",
   "metadata": {},
   "source": [
    "à temps 3 - attr7_3"
   ]
  },
  {
   "cell_type": "code",
   "execution_count": 10,
   "id": "7ada64c5",
   "metadata": {},
   "outputs": [],
   "source": [
    "cols_impact3 = ['attr7_3', 'sinc7_3', 'intel7_3', 'fun7_3', 'amb7_3', 'shar7_3']\n",
    "df_impact3 = df.dropna(subset=cols_impact3)\n",
    "\n",
    "result_impact3 = {}\n",
    "for gender, label in zip([0, 1], ['Femmes évaluant les hommes', 'Hommes évaluant les femmes']):\n",
    "    subset = df_impact3[df_impact3['gender'] == gender]\n",
    "    result_impact3[label] = subset[cols_impact3].mean().sort_values()\n"
   ]
  },
  {
   "cell_type": "code",
   "execution_count": 11,
   "id": "6361719b",
   "metadata": {},
   "outputs": [
    {
     "name": "stdout",
     "output_type": "stream",
     "text": [
      "Time1 – Déclaré :\n",
      "{'Femmes évaluant les hommes': amb1_1      12.018897\n",
      "shar1_1     12.264193\n",
      "fun1_1      17.090132\n",
      "sinc1_1     18.432483\n",
      "attr1_1     18.648623\n",
      "intel1_1    21.512705\n",
      "dtype: float64, 'Hommes évaluant les femmes': amb1_1       7.498773\n",
      "shar1_1     10.258607\n",
      "sinc1_1     16.240439\n",
      "fun1_1      17.650809\n",
      "intel1_1    19.591681\n",
      "attr1_1     28.925728\n",
      "dtype: float64}\n",
      "\n",
      "Time2 – Déclaré :\n",
      "{'Femmes évaluant les hommes': amb1_2      10.322245\n",
      "shar1_2     13.845972\n",
      "sinc1_2     16.613178\n",
      "fun1_2      17.439838\n",
      "intel1_2    19.139063\n",
      "attr1_2     23.150286\n",
      "dtype: float64, 'Hommes évaluant les femmes': amb1_2       7.426234\n",
      "shar1_2     10.927987\n",
      "sinc1_2     14.442338\n",
      "intel1_2    16.079448\n",
      "fun1_2      17.871883\n",
      "attr1_2     33.149740\n",
      "dtype: float64}\n",
      "\n",
      "Time3 – Déclaré :\n",
      "{'Femmes évaluant les hommes': amb1_3      12.354964\n",
      "shar1_3     14.071823\n",
      "fun1_3      15.881768\n",
      "sinc1_3     17.197799\n",
      "intel1_3    19.677666\n",
      "attr1_3     20.849198\n",
      "dtype: float64, 'Hommes évaluant les femmes': amb1_3       9.102337\n",
      "shar1_3     11.007197\n",
      "sinc1_3     15.837674\n",
      "fun1_3      16.666848\n",
      "intel1_3    19.083084\n",
      "attr1_3     28.742112\n",
      "dtype: float64}\n",
      "\n",
      "Time2 – Impact réel :\n",
      "{'Femmes évaluant les hommes': amb7_2       8.132937\n",
      "shar7_2     13.851190\n",
      "sinc7_2     15.263889\n",
      "intel7_2    15.308532\n",
      "fun7_2      18.208333\n",
      "attr7_2     28.039683\n",
      "dtype: float64, 'Hommes évaluant les femmes': amb7_2       6.386484\n",
      "shar7_2     10.394931\n",
      "sinc7_2     11.684266\n",
      "intel7_2    14.933474\n",
      "fun7_2      19.230201\n",
      "attr7_2     37.180570\n",
      "dtype: float64}\n",
      "\n",
      "Time3 – Impact réel :\n",
      "{'Femmes évaluant les hommes': amb7_3       9.417415\n",
      "shar7_3     13.754937\n",
      "fun7_3      15.275583\n",
      "intel7_3    16.349192\n",
      "sinc7_3     18.085278\n",
      "attr7_3     27.126571\n",
      "dtype: float64, 'Hommes évaluant les femmes': amb7_3       5.855876\n",
      "shar7_3     10.297118\n",
      "sinc7_3     12.651885\n",
      "intel7_3    17.087583\n",
      "fun7_3      17.829268\n",
      "attr7_3     36.522173\n",
      "dtype: float64}\n"
     ]
    }
   ],
   "source": [
    "print(\"Time1 – Déclaré :\")\n",
    "print(result_time1)\n",
    "\n",
    "print(\"\\nTime2 – Déclaré :\")\n",
    "print(result_time2)\n",
    "\n",
    "print(\"\\nTime3 – Déclaré :\")\n",
    "print(result_time3)\n",
    "\n",
    "print(\"\\nTime2 – Impact réel :\")\n",
    "print(result_impact2)\n",
    "\n",
    "print(\"\\nTime3 – Impact réel :\")\n",
    "print(result_impact3)\n"
   ]
  },
  {
   "cell_type": "code",
   "execution_count": 12,
   "id": "4799dda4",
   "metadata": {},
   "outputs": [
    {
     "data": {
      "application/vnd.plotly.v1+json": {
       "config": {
        "plotlyServerURL": "https://plot.ly"
       },
       "data": [
        {
         "alignmentgroup": "True",
         "hovertemplate": "Type=Préférences<br>Genre=Femmes évaluant les hommes<br>Moment=%{x}<br>Score moyen (répartition sur 100 points)=%{y}<extra></extra>",
         "legendgroup": "Préférences",
         "marker": {
          "color": "#636efa",
          "pattern": {
           "shape": ""
          }
         },
         "name": "Préférences",
         "offsetgroup": "Préférences",
         "orientation": "v",
         "showlegend": true,
         "textposition": "auto",
         "type": "bar",
         "x": [
          "Time1",
          "Time2",
          "Time3"
         ],
         "xaxis": "x",
         "y": [
          18.64862338443042,
          23.150286484664644,
          20.84919781221513
         ],
         "yaxis": "y"
        },
        {
         "alignmentgroup": "True",
         "hovertemplate": "Type=Préférences<br>Genre=Hommes évaluant les femmes<br>Moment=%{x}<br>Score moyen (répartition sur 100 points)=%{y}<extra></extra>",
         "legendgroup": "Préférences",
         "marker": {
          "color": "#636efa",
          "pattern": {
           "shape": ""
          }
         },
         "name": "Préférences",
         "offsetgroup": "Préférences",
         "orientation": "v",
         "showlegend": false,
         "textposition": "auto",
         "type": "bar",
         "x": [
          "Time1",
          "Time2",
          "Time3"
         ],
         "xaxis": "x2",
         "y": [
          28.925727838719244,
          33.149740259740256,
          28.74211235955056
         ],
         "yaxis": "y2"
        },
        {
         "alignmentgroup": "True",
         "hovertemplate": "Type=Impact réel<br>Genre=Femmes évaluant les hommes<br>Moment=%{x}<br>Score moyen (répartition sur 100 points)=%{y}<extra></extra>",
         "legendgroup": "Impact réel",
         "marker": {
          "color": "#EF553B",
          "pattern": {
           "shape": ""
          }
         },
         "name": "Impact réel",
         "offsetgroup": "Impact réel",
         "orientation": "v",
         "showlegend": true,
         "textposition": "auto",
         "type": "bar",
         "x": [
          "Time2",
          "Time3"
         ],
         "xaxis": "x",
         "y": [
          28.03968253968254,
          27.12657091561939
         ],
         "yaxis": "y"
        },
        {
         "alignmentgroup": "True",
         "hovertemplate": "Type=Impact réel<br>Genre=Hommes évaluant les femmes<br>Moment=%{x}<br>Score moyen (répartition sur 100 points)=%{y}<extra></extra>",
         "legendgroup": "Impact réel",
         "marker": {
          "color": "#EF553B",
          "pattern": {
           "shape": ""
          }
         },
         "name": "Impact réel",
         "offsetgroup": "Impact réel",
         "orientation": "v",
         "showlegend": false,
         "textposition": "auto",
         "type": "bar",
         "x": [
          "Time2",
          "Time3"
         ],
         "xaxis": "x2",
         "y": [
          37.1805702217529,
          36.52217294900222
         ],
         "yaxis": "y2"
        }
       ],
       "layout": {
        "annotations": [
         {
          "font": {},
          "showarrow": false,
          "text": "Genre=Femmes évaluant les hommes",
          "x": 0.245,
          "xanchor": "center",
          "xref": "paper",
          "y": 1,
          "yanchor": "bottom",
          "yref": "paper"
         },
         {
          "font": {},
          "showarrow": false,
          "text": "Genre=Hommes évaluant les femmes",
          "x": 0.755,
          "xanchor": "center",
          "xref": "paper",
          "y": 1,
          "yanchor": "bottom",
          "yref": "paper"
         }
        ],
        "barmode": "group",
        "legend": {
         "title": {
          "text": "Type"
         },
         "tracegroupgap": 0
        },
        "template": {
         "data": {
          "bar": [
           {
            "error_x": {
             "color": "#2a3f5f"
            },
            "error_y": {
             "color": "#2a3f5f"
            },
            "marker": {
             "line": {
              "color": "white",
              "width": 0.5
             },
             "pattern": {
              "fillmode": "overlay",
              "size": 10,
              "solidity": 0.2
             }
            },
            "type": "bar"
           }
          ],
          "barpolar": [
           {
            "marker": {
             "line": {
              "color": "white",
              "width": 0.5
             },
             "pattern": {
              "fillmode": "overlay",
              "size": 10,
              "solidity": 0.2
             }
            },
            "type": "barpolar"
           }
          ],
          "carpet": [
           {
            "aaxis": {
             "endlinecolor": "#2a3f5f",
             "gridcolor": "#C8D4E3",
             "linecolor": "#C8D4E3",
             "minorgridcolor": "#C8D4E3",
             "startlinecolor": "#2a3f5f"
            },
            "baxis": {
             "endlinecolor": "#2a3f5f",
             "gridcolor": "#C8D4E3",
             "linecolor": "#C8D4E3",
             "minorgridcolor": "#C8D4E3",
             "startlinecolor": "#2a3f5f"
            },
            "type": "carpet"
           }
          ],
          "choropleth": [
           {
            "colorbar": {
             "outlinewidth": 0,
             "ticks": ""
            },
            "type": "choropleth"
           }
          ],
          "contour": [
           {
            "colorbar": {
             "outlinewidth": 0,
             "ticks": ""
            },
            "colorscale": [
             [
              0,
              "#0d0887"
             ],
             [
              0.1111111111111111,
              "#46039f"
             ],
             [
              0.2222222222222222,
              "#7201a8"
             ],
             [
              0.3333333333333333,
              "#9c179e"
             ],
             [
              0.4444444444444444,
              "#bd3786"
             ],
             [
              0.5555555555555556,
              "#d8576b"
             ],
             [
              0.6666666666666666,
              "#ed7953"
             ],
             [
              0.7777777777777778,
              "#fb9f3a"
             ],
             [
              0.8888888888888888,
              "#fdca26"
             ],
             [
              1,
              "#f0f921"
             ]
            ],
            "type": "contour"
           }
          ],
          "contourcarpet": [
           {
            "colorbar": {
             "outlinewidth": 0,
             "ticks": ""
            },
            "type": "contourcarpet"
           }
          ],
          "heatmap": [
           {
            "colorbar": {
             "outlinewidth": 0,
             "ticks": ""
            },
            "colorscale": [
             [
              0,
              "#0d0887"
             ],
             [
              0.1111111111111111,
              "#46039f"
             ],
             [
              0.2222222222222222,
              "#7201a8"
             ],
             [
              0.3333333333333333,
              "#9c179e"
             ],
             [
              0.4444444444444444,
              "#bd3786"
             ],
             [
              0.5555555555555556,
              "#d8576b"
             ],
             [
              0.6666666666666666,
              "#ed7953"
             ],
             [
              0.7777777777777778,
              "#fb9f3a"
             ],
             [
              0.8888888888888888,
              "#fdca26"
             ],
             [
              1,
              "#f0f921"
             ]
            ],
            "type": "heatmap"
           }
          ],
          "heatmapgl": [
           {
            "colorbar": {
             "outlinewidth": 0,
             "ticks": ""
            },
            "colorscale": [
             [
              0,
              "#0d0887"
             ],
             [
              0.1111111111111111,
              "#46039f"
             ],
             [
              0.2222222222222222,
              "#7201a8"
             ],
             [
              0.3333333333333333,
              "#9c179e"
             ],
             [
              0.4444444444444444,
              "#bd3786"
             ],
             [
              0.5555555555555556,
              "#d8576b"
             ],
             [
              0.6666666666666666,
              "#ed7953"
             ],
             [
              0.7777777777777778,
              "#fb9f3a"
             ],
             [
              0.8888888888888888,
              "#fdca26"
             ],
             [
              1,
              "#f0f921"
             ]
            ],
            "type": "heatmapgl"
           }
          ],
          "histogram": [
           {
            "marker": {
             "pattern": {
              "fillmode": "overlay",
              "size": 10,
              "solidity": 0.2
             }
            },
            "type": "histogram"
           }
          ],
          "histogram2d": [
           {
            "colorbar": {
             "outlinewidth": 0,
             "ticks": ""
            },
            "colorscale": [
             [
              0,
              "#0d0887"
             ],
             [
              0.1111111111111111,
              "#46039f"
             ],
             [
              0.2222222222222222,
              "#7201a8"
             ],
             [
              0.3333333333333333,
              "#9c179e"
             ],
             [
              0.4444444444444444,
              "#bd3786"
             ],
             [
              0.5555555555555556,
              "#d8576b"
             ],
             [
              0.6666666666666666,
              "#ed7953"
             ],
             [
              0.7777777777777778,
              "#fb9f3a"
             ],
             [
              0.8888888888888888,
              "#fdca26"
             ],
             [
              1,
              "#f0f921"
             ]
            ],
            "type": "histogram2d"
           }
          ],
          "histogram2dcontour": [
           {
            "colorbar": {
             "outlinewidth": 0,
             "ticks": ""
            },
            "colorscale": [
             [
              0,
              "#0d0887"
             ],
             [
              0.1111111111111111,
              "#46039f"
             ],
             [
              0.2222222222222222,
              "#7201a8"
             ],
             [
              0.3333333333333333,
              "#9c179e"
             ],
             [
              0.4444444444444444,
              "#bd3786"
             ],
             [
              0.5555555555555556,
              "#d8576b"
             ],
             [
              0.6666666666666666,
              "#ed7953"
             ],
             [
              0.7777777777777778,
              "#fb9f3a"
             ],
             [
              0.8888888888888888,
              "#fdca26"
             ],
             [
              1,
              "#f0f921"
             ]
            ],
            "type": "histogram2dcontour"
           }
          ],
          "mesh3d": [
           {
            "colorbar": {
             "outlinewidth": 0,
             "ticks": ""
            },
            "type": "mesh3d"
           }
          ],
          "parcoords": [
           {
            "line": {
             "colorbar": {
              "outlinewidth": 0,
              "ticks": ""
             }
            },
            "type": "parcoords"
           }
          ],
          "pie": [
           {
            "automargin": true,
            "type": "pie"
           }
          ],
          "scatter": [
           {
            "fillpattern": {
             "fillmode": "overlay",
             "size": 10,
             "solidity": 0.2
            },
            "type": "scatter"
           }
          ],
          "scatter3d": [
           {
            "line": {
             "colorbar": {
              "outlinewidth": 0,
              "ticks": ""
             }
            },
            "marker": {
             "colorbar": {
              "outlinewidth": 0,
              "ticks": ""
             }
            },
            "type": "scatter3d"
           }
          ],
          "scattercarpet": [
           {
            "marker": {
             "colorbar": {
              "outlinewidth": 0,
              "ticks": ""
             }
            },
            "type": "scattercarpet"
           }
          ],
          "scattergeo": [
           {
            "marker": {
             "colorbar": {
              "outlinewidth": 0,
              "ticks": ""
             }
            },
            "type": "scattergeo"
           }
          ],
          "scattergl": [
           {
            "marker": {
             "colorbar": {
              "outlinewidth": 0,
              "ticks": ""
             }
            },
            "type": "scattergl"
           }
          ],
          "scattermapbox": [
           {
            "marker": {
             "colorbar": {
              "outlinewidth": 0,
              "ticks": ""
             }
            },
            "type": "scattermapbox"
           }
          ],
          "scatterpolar": [
           {
            "marker": {
             "colorbar": {
              "outlinewidth": 0,
              "ticks": ""
             }
            },
            "type": "scatterpolar"
           }
          ],
          "scatterpolargl": [
           {
            "marker": {
             "colorbar": {
              "outlinewidth": 0,
              "ticks": ""
             }
            },
            "type": "scatterpolargl"
           }
          ],
          "scatterternary": [
           {
            "marker": {
             "colorbar": {
              "outlinewidth": 0,
              "ticks": ""
             }
            },
            "type": "scatterternary"
           }
          ],
          "surface": [
           {
            "colorbar": {
             "outlinewidth": 0,
             "ticks": ""
            },
            "colorscale": [
             [
              0,
              "#0d0887"
             ],
             [
              0.1111111111111111,
              "#46039f"
             ],
             [
              0.2222222222222222,
              "#7201a8"
             ],
             [
              0.3333333333333333,
              "#9c179e"
             ],
             [
              0.4444444444444444,
              "#bd3786"
             ],
             [
              0.5555555555555556,
              "#d8576b"
             ],
             [
              0.6666666666666666,
              "#ed7953"
             ],
             [
              0.7777777777777778,
              "#fb9f3a"
             ],
             [
              0.8888888888888888,
              "#fdca26"
             ],
             [
              1,
              "#f0f921"
             ]
            ],
            "type": "surface"
           }
          ],
          "table": [
           {
            "cells": {
             "fill": {
              "color": "#EBF0F8"
             },
             "line": {
              "color": "white"
             }
            },
            "header": {
             "fill": {
              "color": "#C8D4E3"
             },
             "line": {
              "color": "white"
             }
            },
            "type": "table"
           }
          ]
         },
         "layout": {
          "annotationdefaults": {
           "arrowcolor": "#2a3f5f",
           "arrowhead": 0,
           "arrowwidth": 1
          },
          "autotypenumbers": "strict",
          "coloraxis": {
           "colorbar": {
            "outlinewidth": 0,
            "ticks": ""
           }
          },
          "colorscale": {
           "diverging": [
            [
             0,
             "#8e0152"
            ],
            [
             0.1,
             "#c51b7d"
            ],
            [
             0.2,
             "#de77ae"
            ],
            [
             0.3,
             "#f1b6da"
            ],
            [
             0.4,
             "#fde0ef"
            ],
            [
             0.5,
             "#f7f7f7"
            ],
            [
             0.6,
             "#e6f5d0"
            ],
            [
             0.7,
             "#b8e186"
            ],
            [
             0.8,
             "#7fbc41"
            ],
            [
             0.9,
             "#4d9221"
            ],
            [
             1,
             "#276419"
            ]
           ],
           "sequential": [
            [
             0,
             "#0d0887"
            ],
            [
             0.1111111111111111,
             "#46039f"
            ],
            [
             0.2222222222222222,
             "#7201a8"
            ],
            [
             0.3333333333333333,
             "#9c179e"
            ],
            [
             0.4444444444444444,
             "#bd3786"
            ],
            [
             0.5555555555555556,
             "#d8576b"
            ],
            [
             0.6666666666666666,
             "#ed7953"
            ],
            [
             0.7777777777777778,
             "#fb9f3a"
            ],
            [
             0.8888888888888888,
             "#fdca26"
            ],
            [
             1,
             "#f0f921"
            ]
           ],
           "sequentialminus": [
            [
             0,
             "#0d0887"
            ],
            [
             0.1111111111111111,
             "#46039f"
            ],
            [
             0.2222222222222222,
             "#7201a8"
            ],
            [
             0.3333333333333333,
             "#9c179e"
            ],
            [
             0.4444444444444444,
             "#bd3786"
            ],
            [
             0.5555555555555556,
             "#d8576b"
            ],
            [
             0.6666666666666666,
             "#ed7953"
            ],
            [
             0.7777777777777778,
             "#fb9f3a"
            ],
            [
             0.8888888888888888,
             "#fdca26"
            ],
            [
             1,
             "#f0f921"
            ]
           ]
          },
          "colorway": [
           "#636efa",
           "#EF553B",
           "#00cc96",
           "#ab63fa",
           "#FFA15A",
           "#19d3f3",
           "#FF6692",
           "#B6E880",
           "#FF97FF",
           "#FECB52"
          ],
          "font": {
           "color": "#2a3f5f"
          },
          "geo": {
           "bgcolor": "white",
           "lakecolor": "white",
           "landcolor": "white",
           "showlakes": true,
           "showland": true,
           "subunitcolor": "#C8D4E3"
          },
          "hoverlabel": {
           "align": "left"
          },
          "hovermode": "closest",
          "mapbox": {
           "style": "light"
          },
          "paper_bgcolor": "white",
          "plot_bgcolor": "white",
          "polar": {
           "angularaxis": {
            "gridcolor": "#EBF0F8",
            "linecolor": "#EBF0F8",
            "ticks": ""
           },
           "bgcolor": "white",
           "radialaxis": {
            "gridcolor": "#EBF0F8",
            "linecolor": "#EBF0F8",
            "ticks": ""
           }
          },
          "scene": {
           "xaxis": {
            "backgroundcolor": "white",
            "gridcolor": "#DFE8F3",
            "gridwidth": 2,
            "linecolor": "#EBF0F8",
            "showbackground": true,
            "ticks": "",
            "zerolinecolor": "#EBF0F8"
           },
           "yaxis": {
            "backgroundcolor": "white",
            "gridcolor": "#DFE8F3",
            "gridwidth": 2,
            "linecolor": "#EBF0F8",
            "showbackground": true,
            "ticks": "",
            "zerolinecolor": "#EBF0F8"
           },
           "zaxis": {
            "backgroundcolor": "white",
            "gridcolor": "#DFE8F3",
            "gridwidth": 2,
            "linecolor": "#EBF0F8",
            "showbackground": true,
            "ticks": "",
            "zerolinecolor": "#EBF0F8"
           }
          },
          "shapedefaults": {
           "line": {
            "color": "#2a3f5f"
           }
          },
          "ternary": {
           "aaxis": {
            "gridcolor": "#DFE8F3",
            "linecolor": "#A2B1C6",
            "ticks": ""
           },
           "baxis": {
            "gridcolor": "#DFE8F3",
            "linecolor": "#A2B1C6",
            "ticks": ""
           },
           "bgcolor": "white",
           "caxis": {
            "gridcolor": "#DFE8F3",
            "linecolor": "#A2B1C6",
            "ticks": ""
           }
          },
          "title": {
           "x": 0.05
          },
          "xaxis": {
           "automargin": true,
           "gridcolor": "#EBF0F8",
           "linecolor": "#EBF0F8",
           "ticks": "",
           "title": {
            "standoff": 15
           },
           "zerolinecolor": "#EBF0F8",
           "zerolinewidth": 2
          },
          "yaxis": {
           "automargin": true,
           "gridcolor": "#EBF0F8",
           "linecolor": "#EBF0F8",
           "ticks": "",
           "title": {
            "standoff": 15
           },
           "zerolinecolor": "#EBF0F8",
           "zerolinewidth": 2
          }
         }
        },
        "title": {
         "text": "Importance de l'attractivité : Préférences vs Impact réel"
        },
        "xaxis": {
         "anchor": "y",
         "domain": [
          0,
          0.49
         ],
         "title": {
          "text": "Moment d'évaluation"
         }
        },
        "xaxis2": {
         "anchor": "y2",
         "domain": [
          0.51,
          1
         ],
         "matches": "x",
         "title": {
          "text": "Moment"
         }
        },
        "yaxis": {
         "anchor": "x",
         "domain": [
          0,
          1
         ],
         "title": {
          "text": "Score moyen"
         }
        },
        "yaxis2": {
         "anchor": "x2",
         "domain": [
          0,
          1
         ],
         "matches": "y",
         "showticklabels": false
        }
       }
      }
     },
     "metadata": {},
     "output_type": "display_data"
    }
   ],
   "source": [
    "import plotly.express as px\n",
    "import pandas as pd\n",
    "\n",
    "# Construction manuelle des données attractivité pour chaque moment\n",
    "data_attr = [\n",
    "    # Time1\n",
    "    {\"Moment\": \"Time1\", \"Genre\": \"Femmes évaluant les hommes\", \"Type\": \"Préférences\", \"Score\": result_time1[\"Femmes évaluant les hommes\"]['attr1_1']},\n",
    "    {\"Moment\": \"Time1\", \"Genre\": \"Hommes évaluant les femmes\", \"Type\": \"Préférences\", \"Score\": result_time1[\"Hommes évaluant les femmes\"]['attr1_1']},\n",
    "    \n",
    "    # Time2\n",
    "    {\"Moment\": \"Time2\", \"Genre\": \"Femmes évaluant les hommes\", \"Type\": \"Préférences\", \"Score\": result_time2[\"Femmes évaluant les hommes\"]['attr1_2']},\n",
    "    {\"Moment\": \"Time2\", \"Genre\": \"Hommes évaluant les femmes\", \"Type\": \"Préférences\", \"Score\": result_time2[\"Hommes évaluant les femmes\"]['attr1_2']},\n",
    "    {\"Moment\": \"Time2\", \"Genre\": \"Femmes évaluant les hommes\", \"Type\": \"Impact réel\", \"Score\": result_impact2[\"Femmes évaluant les hommes\"]['attr7_2']},\n",
    "    {\"Moment\": \"Time2\", \"Genre\": \"Hommes évaluant les femmes\", \"Type\": \"Impact réel\", \"Score\": result_impact2[\"Hommes évaluant les femmes\"]['attr7_2']},\n",
    "\n",
    "    # Time3\n",
    "    {\"Moment\": \"Time3\", \"Genre\": \"Femmes évaluant les hommes\", \"Type\": \"Préférences\", \"Score\": result_time3[\"Femmes évaluant les hommes\"]['attr1_3']},\n",
    "    {\"Moment\": \"Time3\", \"Genre\": \"Hommes évaluant les femmes\", \"Type\": \"Préférences\", \"Score\": result_time3[\"Hommes évaluant les femmes\"]['attr1_3']},\n",
    "    {\"Moment\": \"Time3\", \"Genre\": \"Femmes évaluant les hommes\", \"Type\": \"Impact réel\", \"Score\": result_impact3[\"Femmes évaluant les hommes\"]['attr7_3']},\n",
    "    {\"Moment\": \"Time3\", \"Genre\": \"Hommes évaluant les femmes\", \"Type\": \"Impact réel\", \"Score\": result_impact3[\"Hommes évaluant les femmes\"]['attr7_3']},\n",
    "]\n",
    "\n",
    "df_attr = pd.DataFrame(data_attr)\n",
    "\n",
    "# Création du graphique\n",
    "fig = px.bar(\n",
    "    df_attr,\n",
    "    x=\"Moment\",\n",
    "    y=\"Score\",\n",
    "    color=\"Type\",\n",
    "    barmode=\"group\",\n",
    "    facet_col=\"Genre\",\n",
    "    title=\"Importance de l'attractivité : Préférences vs Impact réel\",\n",
    "    labels={\"Score\": \"Score moyen (répartition sur 100 points)\"}\n",
    ")\n",
    "\n",
    "fig.update_layout(xaxis_title=\"Moment d'évaluation\", yaxis_title=\"Score moyen\", template='plotly_white')\n",
    "fig.show()\n"
   ]
  }
 ],
 "metadata": {
  "kernelspec": {
   "display_name": "base",
   "language": "python",
   "name": "python3"
  },
  "language_info": {
   "codemirror_mode": {
    "name": "ipython",
    "version": 3
   },
   "file_extension": ".py",
   "mimetype": "text/x-python",
   "name": "python",
   "nbconvert_exporter": "python",
   "pygments_lexer": "ipython3",
   "version": "3.12.4"
  }
 },
 "nbformat": 4,
 "nbformat_minor": 5
}
